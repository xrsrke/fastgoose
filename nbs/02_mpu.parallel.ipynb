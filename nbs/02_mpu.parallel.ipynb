{
 "cells": [
  {
   "attachments": {},
   "cell_type": "markdown",
   "metadata": {},
   "source": [
    "# MPU - Parallel State\n",
    "\n",
    "> Fill in a module description here"
   ]
  },
  {
   "cell_type": "code",
   "execution_count": 14,
   "metadata": {},
   "outputs": [],
   "source": [
    "#| default_exp mpu.parallel"
   ]
  },
  {
   "cell_type": "code",
   "execution_count": 15,
   "metadata": {},
   "outputs": [],
   "source": [
    "#| hide\n",
    "from nbdev.showdoc import *"
   ]
  },
  {
   "cell_type": "code",
   "execution_count": 16,
   "metadata": {},
   "outputs": [],
   "source": [
    "#| hide\n",
    "import nbdev; nbdev.nbdev_export()"
   ]
  },
  {
   "cell_type": "code",
   "execution_count": 17,
   "metadata": {},
   "outputs": [],
   "source": [
    "#| export\n",
    "from typing import Literal"
   ]
  },
  {
   "cell_type": "code",
   "execution_count": 18,
   "metadata": {},
   "outputs": [],
   "source": [
    "#| export\n",
    "BackendType = Literal[\"nccl\", \"gloo\", \"mpi\"]"
   ]
  },
  {
   "cell_type": "code",
   "execution_count": 20,
   "metadata": {},
   "outputs": [],
   "source": [
    "#| export\n",
    "class ParallelState:\n",
    "    def __init__(\n",
    "        self,\n",
    "        tensor_parallel_size: int,\n",
    "        pipeline_parallel_size: int,\n",
    "        data_parallel_size: int,\n",
    "        world_size: int,\n",
    "        master_addr: str,\n",
    "        master_port: int,\n",
    "        backend: BackendType\n",
    "    ):\n",
    "        self.tensor_parallel_size = tensor_parallel_size\n",
    "        self.pipeline_parallel_size = pipeline_parallel_size\n",
    "        self.data_parallel_size = data_parallel_size\n",
    "        self.world_size = world_size\n",
    "        self.master_addr = master_addr\n",
    "        self.master_port = master_port\n",
    "        self.backend = backend\n",
    "    \n",
    "    @property\n",
    "    def rank(self):\n",
    "        return 1"
   ]
  },
  {
   "cell_type": "code",
   "execution_count": null,
   "metadata": {},
   "outputs": [],
   "source": []
  }
 ],
 "metadata": {
  "kernelspec": {
   "display_name": "venv",
   "language": "python",
   "name": "python3"
  },
  "language_info": {
   "codemirror_mode": {
    "name": "ipython",
    "version": 3
   },
   "file_extension": ".py",
   "mimetype": "text/x-python",
   "name": "python",
   "nbconvert_exporter": "python",
   "pygments_lexer": "ipython3",
   "version": "3.9.13"
  },
  "orig_nbformat": 4
 },
 "nbformat": 4,
 "nbformat_minor": 2
}
