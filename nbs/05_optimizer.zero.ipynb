{
 "cells": [
  {
   "attachments": {},
   "cell_type": "markdown",
   "metadata": {},
   "source": [
    "# Zero Redundancy Optimizer\n",
    "\n",
    "> Fill in a module description here"
   ]
  },
  {
   "cell_type": "code",
   "execution_count": 7,
   "metadata": {},
   "outputs": [],
   "source": [
    "#| default_exp optim.zero"
   ]
  },
  {
   "cell_type": "code",
   "execution_count": 8,
   "metadata": {},
   "outputs": [],
   "source": [
    "#| hide\n",
    "from nbdev.showdoc import *"
   ]
  },
  {
   "cell_type": "code",
   "execution_count": 9,
   "metadata": {},
   "outputs": [],
   "source": [
    "#| hide\n",
    "import nbdev; nbdev.nbdev_export()"
   ]
  },
  {
   "cell_type": "code",
   "execution_count": 15,
   "metadata": {},
   "outputs": [],
   "source": [
    "#| export\n",
    "import torch\n",
    "from torch import nn\n",
    "from torch.optim import Optimizer, SGD"
   ]
  },
  {
   "cell_type": "code",
   "execution_count": 25,
   "metadata": {},
   "outputs": [],
   "source": [
    "#| export\n",
    "class ZeRO(Optimizer):\n",
    "    def __init__(\n",
    "        self,\n",
    "        params,\n",
    "        optim: Optimizer = SGD,\n",
    "        world_size: int = 1,\n",
    "        defaults: dict = dict()\n",
    "    ):\n",
    "        super().__init__(params, defaults=defaults)\n",
    "        self.optim = optim\n",
    "        self.world_size = world_size\n",
    "        \n",
    "        self._init_local_optimizer()\n",
    "    \n",
    "    def _init_local_optimizer(self):\n",
    "        pass\n",
    "    \n",
    "    def param_to_ranks(self):\n",
    "        for param_group in self.param_groups:\n",
    "            params_per_rank = self._partrition_paramaters_per_rank(param_group['params'])\n",
    "            return params_per_rank\n",
    "    \n",
    "    def _partrition_paramaters_per_rank(self, param_list):\n",
    "        numel_per_rank = [0 for _ in range(self.world_size)]\n",
    "        param_per_rank = [[] for _ in range(self.world_size)]\n",
    "        sorted_params = sorted(param_list, key=lambda x: x.numel(), reverse=True)\n",
    "        \n",
    "        for param in sorted_params:\n",
    "            rank = numel_per_rank.index(min(numel_per_rank))\n",
    "            numel_per_rank[rank] += param.numel()\n",
    "            param_per_rank[rank].append(param)\n",
    "        \n",
    "        return param_per_rank"
   ]
  },
  {
   "cell_type": "code",
   "execution_count": 26,
   "metadata": {},
   "outputs": [],
   "source": [
    "model = nn.Sequential(nn.Linear(10, 10), nn.Linear(10, 10), nn.Linear(10, 10))"
   ]
  },
  {
   "cell_type": "code",
   "execution_count": 27,
   "metadata": {},
   "outputs": [],
   "source": [
    "zero_optimizer = ZeRO(model.parameters(), SGD, world_size=2)"
   ]
  },
  {
   "cell_type": "code",
   "execution_count": 30,
   "metadata": {},
   "outputs": [
    {
     "data": {
      "text/plain": [
       "[[Parameter containing:\n",
       "  tensor([[ 2.3553e-01, -3.1116e-01, -2.9379e-01, -2.5907e-01, -7.1481e-02,\n",
       "           -2.6121e-01,  1.5681e-01, -2.5376e-01,  1.7853e-01,  3.7766e-02],\n",
       "          [ 2.0894e-01, -2.3549e-01, -1.9249e-01,  2.4569e-01, -1.1339e-01,\n",
       "            5.3849e-02,  1.3157e-01, -1.0871e-01, -5.2743e-02,  1.1673e-01],\n",
       "          [ 2.8707e-01,  7.6804e-02,  2.2762e-02,  1.3525e-01,  6.1164e-02,\n",
       "            1.1460e-01,  1.9687e-01,  3.0281e-01,  1.2798e-01,  1.5961e-01],\n",
       "          [ 3.0327e-01, -4.9095e-02,  2.5742e-01,  6.4522e-02, -1.4047e-01,\n",
       "           -1.3231e-01, -1.4638e-01,  1.5712e-01,  1.2123e-01,  1.5444e-01],\n",
       "          [ 2.2958e-01, -9.4924e-02, -1.0883e-01, -1.7234e-01,  3.0239e-01,\n",
       "            3.0569e-01,  1.0597e-03,  1.9708e-01,  2.1390e-01,  1.8922e-01],\n",
       "          [-1.2181e-01,  1.0332e-02,  1.2949e-01,  2.9991e-01, -1.4892e-01,\n",
       "            5.1659e-02,  2.2322e-01, -7.5470e-02,  1.3945e-01, -3.4895e-03],\n",
       "          [-2.8630e-01, -1.1013e-01, -1.0076e-02,  2.3633e-01,  2.8262e-01,\n",
       "           -1.9523e-01,  6.0896e-02,  1.8262e-01, -2.3836e-01, -2.0180e-01],\n",
       "          [-1.9530e-01,  1.8956e-01, -2.0441e-01,  2.1138e-01, -3.0458e-01,\n",
       "            1.3537e-01,  2.0098e-01, -2.5065e-01,  2.2384e-01, -1.6006e-01],\n",
       "          [ 2.9068e-01,  3.0030e-02,  8.8796e-02, -1.7615e-02,  4.7793e-02,\n",
       "           -2.9773e-01, -1.8191e-01, -6.3295e-02, -1.3822e-02,  6.8600e-02],\n",
       "          [ 2.1146e-01, -1.2716e-01,  1.4799e-02,  2.3828e-03, -5.4186e-02,\n",
       "           -2.8093e-01,  6.7814e-03,  2.3636e-04, -1.9022e-01,  2.8092e-01]],\n",
       "         requires_grad=True),\n",
       "  Parameter containing:\n",
       "  tensor([[ 2.4021e-01,  1.0770e-01,  9.8939e-02,  7.4663e-02,  9.4013e-02,\n",
       "           -1.5873e-01, -2.8200e-01,  8.4071e-02, -1.4084e-01, -1.9577e-01],\n",
       "          [-2.2581e-01,  8.9351e-02, -1.1281e-01, -2.3827e-01,  2.3112e-01,\n",
       "            2.6224e-01,  8.8683e-02, -2.1486e-01, -8.4509e-02, -1.5709e-01],\n",
       "          [ 1.6788e-01, -4.3182e-02, -4.0985e-02,  1.4160e-01,  1.4958e-01,\n",
       "            1.0119e-01, -2.9651e-01, -2.1421e-01,  1.7822e-01, -1.7595e-01],\n",
       "          [ 1.5047e-01, -2.1539e-01, -3.1017e-01,  1.0417e-01,  3.1414e-01,\n",
       "           -2.8036e-01, -1.6612e-01, -1.1963e-01,  1.6501e-01, -3.0681e-01],\n",
       "          [ 2.9714e-01, -1.1448e-01,  1.2243e-01, -1.0754e-01, -2.9999e-01,\n",
       "           -1.2547e-01,  1.6770e-01,  1.5817e-01,  1.5939e-01,  2.7193e-01],\n",
       "          [-2.4094e-01,  8.4744e-02, -2.3765e-01,  1.2477e-01, -2.3806e-01,\n",
       "           -6.0371e-02,  1.4002e-01, -1.3128e-01, -3.7984e-02,  1.3731e-03],\n",
       "          [-6.2261e-02, -3.0099e-01, -2.0101e-01,  1.2028e-01,  7.4271e-02,\n",
       "            2.8016e-01, -2.8226e-01, -4.3237e-02,  2.2591e-01,  1.5730e-01],\n",
       "          [-1.4634e-01, -4.6060e-02,  1.4307e-01, -2.3101e-01, -1.3421e-01,\n",
       "           -1.9690e-01,  1.0535e-04, -2.7232e-01, -2.4112e-01,  9.4014e-02],\n",
       "          [ 1.6173e-01,  2.6459e-01, -1.1654e-01, -1.2176e-01,  5.5317e-02,\n",
       "            2.9140e-01, -2.6128e-01, -1.3549e-01,  2.0398e-02, -1.7358e-01],\n",
       "          [ 1.6017e-01,  7.8580e-02, -8.7623e-02, -9.5211e-02,  9.8917e-02,\n",
       "           -2.1660e-01,  2.2785e-03, -7.4066e-02, -2.7817e-02,  1.5931e-01]],\n",
       "         requires_grad=True)],\n",
       " [Parameter containing:\n",
       "  tensor([[ 0.2367, -0.3092, -0.1503,  0.1509, -0.2305,  0.1362,  0.0811,  0.2271,\n",
       "            0.0299, -0.1303],\n",
       "          [-0.1988,  0.2187, -0.1268,  0.0635, -0.2339,  0.2275,  0.0006,  0.0445,\n",
       "            0.0746, -0.1937],\n",
       "          [ 0.0710, -0.0268,  0.2702,  0.0346,  0.1884,  0.0999,  0.0428, -0.2210,\n",
       "            0.1837, -0.0126],\n",
       "          [ 0.0459, -0.1330, -0.1418,  0.1651,  0.2350, -0.2970, -0.1954,  0.2103,\n",
       "            0.2039,  0.0633],\n",
       "          [ 0.1401, -0.2140, -0.0460,  0.1620, -0.1788,  0.0911,  0.0444, -0.1335,\n",
       "            0.0309, -0.2826],\n",
       "          [-0.0370,  0.2060,  0.1506, -0.2462, -0.3103, -0.2722,  0.1444,  0.0863,\n",
       "           -0.1081,  0.2296],\n",
       "          [ 0.0439,  0.0444,  0.1105,  0.2993, -0.1415, -0.1202,  0.2123,  0.2779,\n",
       "           -0.2207, -0.2027],\n",
       "          [ 0.1700, -0.3018, -0.1085,  0.2552,  0.3134,  0.2947,  0.0461,  0.1181,\n",
       "           -0.3107,  0.1626],\n",
       "          [ 0.2996, -0.0362, -0.2459, -0.2410,  0.1605, -0.1945,  0.1124, -0.2321,\n",
       "            0.0022,  0.2991],\n",
       "          [-0.0340, -0.1523,  0.0602,  0.3067,  0.3106,  0.1493, -0.2406,  0.0969,\n",
       "           -0.0011, -0.2985]], requires_grad=True),\n",
       "  Parameter containing:\n",
       "  tensor([-0.1893,  0.3040, -0.0237, -0.1860,  0.2267,  0.3057, -0.0211,  0.2419,\n",
       "           0.3096,  0.0029], requires_grad=True),\n",
       "  Parameter containing:\n",
       "  tensor([-0.1699, -0.1697,  0.2782, -0.0426,  0.2733, -0.0354, -0.1919,  0.1143,\n",
       "          -0.2976, -0.0591], requires_grad=True),\n",
       "  Parameter containing:\n",
       "  tensor([ 0.1580, -0.1195,  0.3153,  0.1505, -0.2103, -0.0719,  0.1922,  0.0489,\n",
       "           0.0042,  0.0736], requires_grad=True)]]"
      ]
     },
     "execution_count": 30,
     "metadata": {},
     "output_type": "execute_result"
    }
   ],
   "source": [
    "zero_optimizer.param_to_ranks()"
   ]
  },
  {
   "cell_type": "code",
   "execution_count": null,
   "metadata": {},
   "outputs": [],
   "source": []
  }
 ],
 "metadata": {
  "kernelspec": {
   "display_name": "venv",
   "language": "python",
   "name": "python3"
  },
  "language_info": {
   "codemirror_mode": {
    "name": "ipython",
    "version": 3
   },
   "file_extension": ".py",
   "mimetype": "text/x-python",
   "name": "python",
   "nbconvert_exporter": "python",
   "pygments_lexer": "ipython3",
   "version": "3.9.13"
  },
  "orig_nbformat": 4
 },
 "nbformat": 4,
 "nbformat_minor": 2
}
